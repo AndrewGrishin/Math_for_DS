{
 "cells": [
  {
   "cell_type": "markdown",
   "id": "202513c4",
   "metadata": {},
   "source": [
    "# Classification is a type of supervised learning"
   ]
  },
  {
   "cell_type": "markdown",
   "id": "372095cd",
   "metadata": {},
   "source": [
    "## It tiries to establish mathematical representation of dependencies. It is so called \"models\""
   ]
  },
  {
   "cell_type": "markdown",
   "id": "7183e57f",
   "metadata": {},
   "source": [
    "### NB! Regression -> infinite and unbounded output"
   ]
  },
  {
   "cell_type": "markdown",
   "id": "9899de38",
   "metadata": {},
   "source": [
    "### NB! Classification -> finite and bounded ouput"
   ]
  },
  {
   "cell_type": "markdown",
   "id": "fada167c",
   "metadata": {},
   "source": [
    "There are two main types of classification problems:\n",
    "\n",
    "1. Binary or binomial classification: exactly two classes to choose between (usually 0 and 1, true and false, or positive and negative)\n",
    "2. Multiclass or multinomial classification: three or more classes of the outputs to choose from"
   ]
  },
  {
   "cell_type": "markdown",
   "id": "3320bf45",
   "metadata": {},
   "source": [
    "## About logistic regression"
   ]
  },
  {
   "cell_type": "markdown",
   "id": "2266539d",
   "metadata": {},
   "source": [
    "###### Logistic regression is a fundamental classification technique. It belongs to the group of linear classifiers and is somewhat similar to polynomial and linear regression. Logistic regression is fast and relatively uncomplicated, and it’s convenient for you to interpret the results. Although it’s essentially a method for binary classification, it can also be applied to multiclass problems."
   ]
  },
  {
   "cell_type": "code",
   "execution_count": 46,
   "id": "f54ca96d",
   "metadata": {},
   "outputs": [],
   "source": [
    "# Binary classification considers only two classes!\n",
    "# However there is some extremely interesting math required. \n",
    "# Lets jump in!\n",
    "import matplotlib.pyplot as plt\n",
    "import numpy as np\n",
    "from math import exp, log"
   ]
  },
  {
   "cell_type": "code",
   "execution_count": 47,
   "id": "d1c5c026",
   "metadata": {},
   "outputs": [],
   "source": [
    "x = np.arange(-10,10,0.1)\n",
    "y = np.array([1 / (1 + exp(-el)) for el in x])"
   ]
  },
  {
   "cell_type": "code",
   "execution_count": 48,
   "id": "de172c7b",
   "metadata": {},
   "outputs": [
    {
     "data": {
      "image/png": "[encoded data removed]",
      "text/plain": [
       "<Figure size 432x288 with 1 Axes>"
      ]
     },
     "metadata": {
      "needs_background": "light"
     },
     "output_type": "display_data"
    }
   ],
   "source": [
    "# Here is sigmoida function!\n",
    "plt.plot(x,y,color= \"black\")\n",
    "plt.grid(b= True)\n",
    "plt.show()"
   ]
  },
  {
   "cell_type": "markdown",
   "id": "3e1d84da",
   "metadata": {},
   "source": [
    "This function has values with bounds 0 and 1. So this function is very suitable in classificatoin tasks."
   ]
  },
  {
   "cell_type": "code",
   "execution_count": 52,
   "id": "0f2958dd",
   "metadata": {},
   "outputs": [],
   "source": [
    "x = np.arange(0.000001,1.0,0.000001)"
   ]
  },
  {
   "cell_type": "code",
   "execution_count": 53,
   "id": "dc50fed8",
   "metadata": {},
   "outputs": [],
   "source": [
    "y1 = np.array([log(el) for el in x])\n",
    "y2 = np.array([log(1 - el) for el in x])"
   ]
  },
  {
   "cell_type": "code",
   "execution_count": 55,
   "id": "f8d6226d",
   "metadata": {},
   "outputs": [
    {
     "data": {
      "image/png": "[encoded data removed]",
      "text/plain": [
       "<Figure size 432x288 with 1 Axes>"
      ]
     },
     "metadata": {
      "needs_background": "light"
     },
     "output_type": "display_data"
    }
   ],
   "source": [
    "plt.plot(x,y1,color= \"black\",label= \"f(x) = ln(x)\")\n",
    "plt.plot(x,y2,color= \"red\",label= \"g(x) = ln(1 - x)\")\n",
    "plt.legend(loc= \"best\")\n",
    "plt.show()"
   ]
  },
  {
   "cell_type": "code",
   "execution_count": null,
   "id": "b7072496",
   "metadata": {},
   "outputs": [],
   "source": []
  },
  {
   "cell_type": "code",
   "execution_count": null,
   "id": "f176b5fb",
   "metadata": {},
   "outputs": [],
   "source": []
  }
 ],
 "metadata": {
  "kernelspec": {
   "display_name": "Python 3",
   "language": "python",
   "name": "python3"
  },
  "language_info": {
   "codemirror_mode": {
    "name": "ipython",
    "version": 3
   },
   "file_extension": ".py",
   "mimetype": "text/x-python",
   "name": "python",
   "nbconvert_exporter": "python",
   "pygments_lexer": "ipython3",
   "version": "3.8.5"
  }
 },
 "nbformat": 4,
 "nbformat_minor": 5
}
