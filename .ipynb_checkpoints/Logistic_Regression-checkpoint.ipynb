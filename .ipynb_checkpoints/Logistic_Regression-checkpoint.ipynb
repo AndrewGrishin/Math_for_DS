{
 "cells": [
  {
   "cell_type": "markdown",
   "id": "202513c4",
   "metadata": {},
   "source": [
    "# Classification is a type of supervised learning"
   ]
  },
  {
   "cell_type": "markdown",
   "id": "372095cd",
   "metadata": {},
   "source": [
    "## It tiries to establish mathematical representation of dependencies. It is so called \"models\""
   ]
  },
  {
   "cell_type": "markdown",
   "id": "7183e57f",
   "metadata": {},
   "source": [
    "### NB! Regression -> infinite and unbounded output"
   ]
  },
  {
   "cell_type": "markdown",
   "id": "9899de38",
   "metadata": {},
   "source": [
    "### NB! Classification -> finite and bounded ouput"
   ]
  },
  {
   "cell_type": "markdown",
   "id": "fada167c",
   "metadata": {},
   "source": [
    "There are two main types of classification problems:\n",
    "\n",
    "1. Binary or binomial classification: exactly two classes to choose between (usually 0 and 1, true and false, or positive and negative)\n",
    "2. Multiclass or multinomial classification: three or more classes of the outputs to choose from"
   ]
  },
  {
   "cell_type": "markdown",
   "id": "3320bf45",
   "metadata": {},
   "source": [
    "## About logistic regression"
   ]
  },
  {
   "cell_type": "markdown",
   "id": "2266539d",
   "metadata": {},
   "source": [
    "###### Logistic regression is a fundamental classification technique. It belongs to the group of linear classifiers and is somewhat similar to polynomial and linear regression. Logistic regression is fast and relatively uncomplicated, and it’s convenient for you to interpret the results. Although it’s essentially a method for binary classification, it can also be applied to multiclass problems."
   ]
  },
  {
   "cell_type": "code",
   "execution_count": 45,
   "id": "f54ca96d",
   "metadata": {},
   "outputs": [],
   "source": [
    "# Binary classification considers only two classes!\n",
    "# However there is some extremely interesting math required. \n",
    "# Lets jump in!\n",
    "import matplotlib.pyplot as plt\n",
    "import numpy as np\n",
    "from math import exp, log"
   ]
  },
  {
   "cell_type": "code",
   "execution_count": 46,
   "id": "d1c5c026",
   "metadata": {},
   "outputs": [],
   "source": [
    "x = np.arange(-10,10,0.01)\n",
    "y = np.array([1 / (1 + exp(-el)) for el in x])"
   ]
  },
  {
   "cell_type": "code",
   "execution_count": 47,
   "id": "de172c7b",
   "metadata": {},
   "outputs": [
    {
     "data": {
      "image/png": "[encoded data removed]",
      "text/plain": [
       "<Figure size 432x288 with 1 Axes>"
      ]
     },
     "metadata": {
      "needs_background": "light"
     },
     "output_type": "display_data"
    }
   ],
   "source": [
    "# Here is sigmoida function!\n",
    "plt.plot(x,y,color= \"black\")\n",
    "plt.grid(b= True)\n",
    "plt.show()"
   ]
  },
  {
   "cell_type": "markdown",
   "id": "3e1d84da",
   "metadata": {},
   "source": [
    "This function has values with bounds 0 and 1. So this function is very suitable in classificatoin tasks."
   ]
  },
  {
   "cell_type": "code",
   "execution_count": 48,
   "id": "0f2958dd",
   "metadata": {},
   "outputs": [],
   "source": [
    "x = np.arange(0.000001,1.0,0.000001)"
   ]
  },
  {
   "cell_type": "code",
   "execution_count": 49,
   "id": "dc50fed8",
   "metadata": {},
   "outputs": [],
   "source": [
    "y1 = np.array([log(el) for el in x])\n",
    "y2 = np.array([log(1 - el) for el in x])"
   ]
  },
  {
   "cell_type": "code",
   "execution_count": 50,
   "id": "f8d6226d",
   "metadata": {},
   "outputs": [
    {
     "data": {
      "image/png": "[encoded data removed]",
      "text/plain": [
       "<Figure size 432x288 with 1 Axes>"
      ]
     },
     "metadata": {
      "needs_background": "light"
     },
     "output_type": "display_data"
    }
   ],
   "source": [
    "plt.plot(x,y1,color= \"black\",label= \"f(x) = ln(x)\")\n",
    "plt.plot(x,y2,color= \"red\",label= \"g(x) = ln(1 - x)\")\n",
    "plt.legend(loc= \"best\")\n",
    "plt.grid(True)\n",
    "plt.show()"
   ]
  },
  {
   "cell_type": "markdown",
   "id": "1287f597",
   "metadata": {},
   "source": [
    "#### Methodology is the following.\n",
    "1. Use the function: ${f(x_j) = \\beta_0 + \\beta_1 \\cdot x_j^{(1)} \\ + ... + \\ \\beta_r \\cdot x_j^{(r)}:j\\in\\{1...n\\}}$ as the classification model (usually called ***logit***).\n",
    "    - ${\\beta_j:j\\in\\{1...r\\} - estimator,\\ predicted \\ weights,\\ coefs}$\n",
    "    - ${f(x) \\in [0,1]}$\n",
    "2. The logistic-regression function ${p(x)}$ is the sigmoida function of ${f(x)}$.\n",
    "    - So, ${p(x) = \\frac{1}{1 + e^{-f(x)}} = \\frac{1}{1 + e^{-1 \\cdot \\left(\\beta_0 + \\beta_1 \\cdot x_j^{(1)} \\ + ... + \\ \\beta_r \\cdot x_j^{(r)}\\right)}}:j\\in\\{1...n\\}}$\n",
    "    - In this case ${p(x)}$ is usually taken as  predicted probability that the output of ${p(x)}$ for given x in equal to 1. So 1 - ${p(x)}$ is probability, that the output of ${p(x)}$ for given x is 0.\n",
    "3. The idea of logtistic regression is to detremine such ${\\beta_0...\\beta_n}$ that the function ${p(x)}$ is as close as possible to actual values of ${y_j:j\\in\\{1...n\\}}$, where ${n}$ is a number of observations.<br><br> \n",
    "${**NB!**}$ The process of computing such coefs is called ***the training porcess***."
   ]
  },
  {
   "cell_type": "markdown",
   "id": "eb0de0c0",
   "metadata": {},
   "source": [
    "To get the best weights, it is necessary to look for this function max. ***But it is not correct.***\n",
    "Lets stop for a while and make a step back to the origins."
   ]
  },
  {
   "cell_type": "markdown",
   "id": "2b6600bd",
   "metadata": {},
   "source": [
    "### First we have to understand the sigmoida ${\\sigma(x)}$ funciton. Let's look! It is going to be a lot of fun and joy."
   ]
  },
  {
   "cell_type": "markdown",
   "id": "5f2f08a0",
   "metadata": {},
   "source": [
    "**Question 1:** Why do we need it?<br>\n",
    "**Answer:** Lets assume that we have such task of regression."
   ]
  },
  {
   "cell_type": "code",
   "execution_count": 51,
   "id": "91078a85",
   "metadata": {},
   "outputs": [],
   "source": [
    "x = np.arange(0,20,1)\n",
    "y = np.array([0,0,0,0,0,0,0,0,0,0,1,0,1,1,1,1,1,1,1,1,])"
   ]
  },
  {
   "cell_type": "markdown",
   "id": "425b1513",
   "metadata": {},
   "source": [
    "Here we have the graph illustrating our data. And also some *additional* info like average value-line of y."
   ]
  },
  {
   "cell_type": "code",
   "execution_count": 52,
   "id": "b814b85a",
   "metadata": {
    "scrolled": true
   },
   "outputs": [
    {
     "data": {
      "image/png": "[encoded data removed]",
      "text/plain": [
       "<Figure size 432x288 with 1 Axes>"
      ]
     },
     "metadata": {
      "needs_background": "light"
     },
     "output_type": "display_data"
    }
   ],
   "source": [
    "plt.scatter(x,y)\n",
    "plt.xlabel(\"x-values\")\n",
    "plt.ylabel(\"y-values\")\n",
    "plt.grid(True)\n",
    "plt.plot(x,[y.sum() / len(x) for _ in range(len(y))], color= \"red\",label= \"Avg y line\")\n",
    "plt.legend(loc= \"best\")\n",
    "plt.show()"
   ]
  },
  {
   "cell_type": "markdown",
   "id": "37ee567e",
   "metadata": {},
   "source": [
    "Now let's make a regression analysis of this simple problem."
   ]
  },
  {
   "cell_type": "code",
   "execution_count": 56,
   "id": "fabb1038",
   "metadata": {},
   "outputs": [],
   "source": [
    "from sklearn.linear_model import LinearRegression"
   ]
  },
  {
   "cell_type": "code",
   "execution_count": 60,
   "id": "cfaa8085",
   "metadata": {},
   "outputs": [
    {
     "name": "stdout",
     "output_type": "stream",
     "text": [
      "[0.07293233] -0.24285714285714305\n"
     ]
    }
   ],
   "source": [
    "# Do not forget to reshape the x array (do not know yet, why but do not forget. \n",
    "# NB! Gotta deal with it)\n",
    "model = LinearRegression().fit(x.reshape((-1,1)),y)\n",
    "print(model.coef_,model.intercept_)"
   ]
  },
  {
   "cell_type": "code",
   "execution_count": 61,
   "id": "83abfa2b",
   "metadata": {},
   "outputs": [],
   "source": [
    "y_predicted = model.intercept_ + model.coef_[0] * x"
   ]
  },
  {
   "cell_type": "code",
   "execution_count": 62,
   "id": "206b8a5d",
   "metadata": {},
   "outputs": [
    {
     "data": {
      "text/plain": [
       "array([[1.        , 0.84533396],\n",
       "       [0.84533396, 1.        ]])"
      ]
     },
     "execution_count": 62,
     "metadata": {},
     "output_type": "execute_result"
    }
   ],
   "source": [
    "# Correlation rate is high, so it is worth appling linear regression\n",
    "# I know, a little bit late with this fact, but let's use only Pearson R\n",
    "np.corrcoef(x,y)"
   ]
  },
  {
   "cell_type": "code",
   "execution_count": 64,
   "id": "cecb8101",
   "metadata": {},
   "outputs": [
    {
     "data": {
      "image/png": "[encoded data removed]",
      "text/plain": [
       "<Figure size 432x288 with 1 Axes>"
      ]
     },
     "metadata": {
      "needs_background": "light"
     },
     "output_type": "display_data"
    }
   ],
   "source": [
    "plt.scatter(x,y,color=\"Blue\",label= \"True values\")\n",
    "plt.plot(x,y_predicted,color= \"Black\",label= \"regression line\")\n",
    "plt.xlabel(\"x-values\")\n",
    "plt.ylabel(\"y-values, y_predicted-values\")\n",
    "plt.grid(True)\n",
    "plt.plot(x,[y.sum() / len(x) for _ in range(len(y))], color= \"red\",label= \"Avg y line\")\n",
    "plt.legend(loc= \"best\")\n",
    "plt.show()"
   ]
  },
  {
   "cell_type": "markdown",
   "id": "3d7d4c31",
   "metadata": {},
   "source": [
    "As it is illustrated above, this line does not seam to be the correct solution of this problem,<br> \n",
    "because it does not fit at least one of the initial dots. So we have that this attempt had no success.<br> Getting back and starting again."
   ]
  },
  {
   "cell_type": "markdown",
   "id": "45f7a170",
   "metadata": {},
   "source": [
    "1. ${y_j = \\beta_0  \\cdot x_j^{(0)} + \\beta_1 \\cdot x_j^{(1)} + \\ ... \\ \\beta_k \\cdot x_j^{(k)} \\ + \\ \\epsilon_j \\ :j \\in \\{1...n\\}}$\n",
    "2. ***If*** we have ${y_j:j\\in\\{1...n\\}\\in\\{0,1\\}}$<br>***Then*** it is logical to speak in terms of probability.\n",
    "    - ***If*** we want ${y_j:j\\in\\{1...n\\}\\in\\{0,1\\}}$ stay in ${\\{0,1\\}}$<br>***Then*** let's bound the range of ${f(x)}$ values via the following assumption:<br>${Let's \\ assume \\ that \\ f(x) = \\frac{p(x)}{1 - p(x)}\\in \\left(0,+\\infty\\right):p(x)\\in \\left[0,1\\right)}$\n",
    "    - It was the step number two.\n",
    "3. Next, let's consider, that ${f(x)}$ should stay in ${\\mathbb{R}}$ set and not in ${\\mathbb{R}^+ \\ same \\ as \\ \\left(0,+\\infty\\right)}$\n",
    "    - To get the inial range of values back, let's ln() of both sides. So...\n",
    "    - ${\\ln\\left(\\frac{p(x)}{1 - p(x)}\\right) = \\beta_0  \\cdot x_j^{(0)} + \\beta_1 \\cdot x_j^{(1)} + \\ ... \\ \\beta_k \\cdot x_j^{(k)} + \\epsilon_j \\ :j \\in \\{1...n\\}}$\n",
    "    - The values of this function lies again in ${\\mathbb{R}}$ set. And it is a cool stuff, as now we assume that our function is not as simple, as it used to be, and the initial value of the right hand side is equal not only to the dependent variable, but a function ${z(x)=\\ln\\left(\\frac{p(x)}{1 - p(x)}\\right)}$.\n",
    "    - ***NB!*** it is only an assumption. No one knows what is going to happen next.\n",
    "    - However, while it works, let's make some computational stuff. (step three)\n",
    "4. ${\\ln\\left(\\frac{p(x)}{1 - p(x)}\\right) = \\beta_0  \\cdot x_j^{(0)} + \\beta_1 \\cdot x_j^{(1)} + \\ ... \\ \\beta_k \\cdot x_j^{(k)} + \\epsilon_j \\ :j \\in \\{1...n\\}\\newline\n",
    "\\frac{p(x)}{1 - p(x)} = e^{\\left(\\beta_0  \\cdot x_j^{(0)} + \\beta_1 \\cdot x_j^{(1)} + \\ ... \\ \\beta_k \\cdot x_j^{(k)} + \\epsilon_j\\right)}\\ :j \\in \\{1...n\\} \\ (equality \\ was \\ powered \\ by \\ e)\\newline\n",
    "p(x) = (1 - p(x)) \\cdot e^{\\left(\\beta_0  \\cdot x_j^{(0)} + \\beta_1 \\cdot x_j^{(1)} + \\ ... \\ \\beta_k \\cdot x_j^{(k)} + \\epsilon_j\\right)} \\ :j \\in \\{1...n\\} \\newline\n",
    "p(x) = e^{\\left(\\beta_0  \\cdot x_j^{(0)} + \\beta_1 \\cdot x_j^{(1)} + \\ ... \\ \\beta_k \\cdot x_j^{(k)} + \\epsilon_j\\right)} - p(x) \\cdot e^{\\left(\\beta_0  \\cdot x_j^{(0)} + \\beta_1 \\cdot x_j^{(1)} + \\ ... \\ \\beta_k \\cdot x_j^{(k)} + \\epsilon_j\\right)} \\ :j \\in \\{1...n\\} \\newline\n",
    "\\left(1 + e^{\\left(\\beta_0  \\cdot x_j^{(0)} + \\beta_1 \\cdot x_j^{(1)} + \\ ... \\ \\beta_k \\cdot x_j^{(k)} + \\epsilon_j\\right)}\\right) \\cdot p(x) = e^{\\left(\\beta_0  \\cdot x_j^{(0)} + \\beta_1 \\cdot x_j^{(1)} + \\ ... \\ \\beta_k \\cdot x_j^{(k)} + \\epsilon_j\\right)} \\ :j \\in \\{1...n\\} \\newline \n",
    "p(x) = \\frac{e^{\\left(\\beta_0  \\cdot x_j^{(0)} + \\beta_1 \\cdot x_j^{(1)} + \\ ... \\ \\beta_k \\cdot x_j^{(k)} + \\epsilon_j\\right)}}{1 + e^{\\left(\\beta_0  \\cdot x_j^{(0)}  \\cdot x_j^{(0)} + \\beta_1 \\cdot x_j^{(1)} + \\ ... \\ \\beta_k \\cdot x_j^{(k)} + \\epsilon_j\\right)}} \\ :j \\in \\{1...n\\} \\newline\n",
    "p(x) = \\frac{1}{\\frac{1}{e^{\\left(\\beta_0 \\cdot x_j^{(0)} + \\beta_1 \\cdot x_j^{(1)} + \\ ... \\ \\beta_k \\cdot x_j^{(k)} + \\epsilon_j\\right)}} \\cdot \\left(1 + e^{\\left(\\beta_0  \\cdot x_j^{(0)} + \\beta_1 \\cdot x_j^{(1)} + \\ ... \\ \\beta_k \\cdot x_j^{(k)} + \\epsilon_j\\right)}\\right)} \\ :j \\in \\{1...n\\} \\newline\n",
    "p(x) = \\frac{1}{1 + e^{-1 \\cdot \\left(\\beta_0  \\cdot x_j^{(0)} + \\beta_1 \\cdot x_j^{(1)} + \\ ... \\ \\beta_k \\cdot x_j^{(k)} + \\epsilon_j\\right)}} \\ :j \\in \\{1...n\\} \\newline\n",
    "p(x) = \\frac{1}{1 + e^{-1 \\cdot \\left( \\left(\\overrightarrow{\\beta}\\right)^T \\cdot \\overrightarrow{x}_j + \\epsilon_j \\right)}} \\ :j \\in \\{1...n\\}, \\ \n",
    "\\overrightarrow{\\beta} = \\{\\beta_0,...,\\beta_k\\},\\\n",
    "\\overrightarrow{x}_j = \\{x_j^0,...,x_j^k\\}^T \\newline}$"
   ]
  },
  {
   "cell_type": "markdown",
   "id": "4266226c",
   "metadata": {},
   "source": [
    "We are done, but let's notice that the classic sigmoida is ${\\sigma(x) = \\frac{1}{1 + e^{-x}}}$ and here we have something, that on the one hand looks like it, and on the other it is a function of type: ${p(x):\\mathbb{R}^k \\rightarrow \\mathbb{R}^1}$.<br> \n",
    "Here we have ${\\overrightarrow{\\beta} = \\{\\beta_0,...,\\beta_k\\},\\ \\overrightarrow{x}_j = \\{x_j^0,...,x_j^k\\}^T}$<br>\n",
    "So, it is possible to redifine this function, using ${\\sigma\\left(\\overrightarrow{\\beta},\\overrightarrow{x}_j\\right) = \\frac{1}{1 + e^{-1 \\cdot \\left( \\left(\\overrightarrow{\\beta}\\right)^T \\cdot \\overrightarrow{x}_j + \\epsilon_j \\right)}} \\ :j \\in \\{1...n\\}, \\ \n",
    "\\overrightarrow{\\beta} = \\{\\beta_0,...,\\beta_k\\},\\\n",
    "\\overrightarrow{x}_j = \\{x_j^0,...,x_j^k\\}^T \\newline}$<br>\n",
    "Temporery summary: ${\\sigma\\left(\\overrightarrow{\\beta},\\overrightarrow{x}_j\\right) \\in \\left[0,1\\right]}$<br>"
   ]
  },
  {
   "cell_type": "markdown",
   "id": "32657260",
   "metadata": {},
   "source": [
    "On one side it is great that we've got sigmida, but there are questations:<br>\n",
    "1. ***What are we going to do with it?***\n",
    "2. ***How will we approximate ${y_j:j\\in \\{0,...,n\\}}$?***<br>\n",
    "***Question:*** Wait ${y_j:j\\in \\{0,...,n\\}}$, we have 2 classes 0 (B) and 1 (A). What if A - ***success*** and B - ***failure*** classes?<br>\n",
    "***Answer:*** Bernoulli distribution with ${p_j = y_j:j\\in \\{0,...,n\\}}$ *p* - true value<br>\n",
    "***Hence:*** ${\\sigma\\left(\\overrightarrow{\\beta},\\overrightarrow{x}_j\\right) \\sim Bernoulli(y_j):j\\in \\{0,...,n\\}}$<br>\n",
    "Classic way to wright Bernoulli distribution is: ${\\xi \\sim Bernoulli(p)}$<br>\n",
    "${E(\\xi) = p \\newline\n",
    "  V(\\xi) = p \\cdot (1 - p)\\newline\n",
    "  P(\\xi = x,p) = p^x \\cdot (1 - p)^{1 - x}: x \\in \\{0,1\\}\\newline\n",
    "  In \\ our \\ case \\ \\xi = y_j: j \\in \\{1...n\\}\\newline\n",
    "  P(\\xi = y_j,p) = p^{y_j} \\cdot (1 - p)^{1 - y_j}: y_j \\in \\{0,1\\}\\newline\n",
    "  And \\ p = \\sigma\\left(\\overrightarrow{\\beta},\\overrightarrow{x}_j\\right)\\newline\n",
    "  P\\left(\\xi = y_j,p = \\sigma\\left(\\overrightarrow{\\beta},\\overrightarrow{x}_j\\right)\\right) = \\sigma\\left(\\overrightarrow{\\beta},\\overrightarrow{x}_j\\right)^{y_j} \\cdot \\left(1 - \\sigma\\left(\\overrightarrow{\\beta},\\overrightarrow{x}_j\\right)\\right)^{1 - y_j}: j\\in \\{0,...,n\\}}$<br>\n",
    "Now we can use max-likelihood method to find the maximum value of this function.<br>\n",
    "This function is will be set to max, because it is called ***max-likelihood method***<br>\n",
    "Lets do that!"
   ]
  },
  {
   "cell_type": "markdown",
   "id": "02ba7157",
   "metadata": {},
   "source": [
    "${L\\left(\\overrightarrow{\\beta}\\right) = \\prod_{j=1}^{n} P\\left(\\xi = y_j,p = \\sigma\\left(\\overrightarrow{\\beta},\\overrightarrow{x}_j\\right)\\right) = \\prod_{j=1}^{n} \\sigma\\left(\\overrightarrow{\\beta},\\overrightarrow{x}_j\\right)^{y_j} \\cdot \\left(1 - \\sigma\\left(\\overrightarrow{\\beta},\\overrightarrow{x}_j\\right)\\right)^{1 - y_j}: j\\in \\{0,...,n\\}}$<br>\n",
    "${\\ln\\left(L\\left(\\overrightarrow{\\beta}\\right)\\right) = \\ln\\left(\\prod_{j=1}^{n} P\\left(\\xi = y_j,p = \\sigma\\left(\\overrightarrow{\\beta},\\overrightarrow{x}_j\\right)\\right)\\right) = \\newline\\ln\\left(\\prod_{j=1}^{n} \\sigma\\left(\\overrightarrow{\\beta},\\overrightarrow{x}_j\\right)^{y_j} \\cdot \\left(1 - \\sigma\\left(\\overrightarrow{\\beta},\\overrightarrow{x}_j\\right)\\right)^{1 - y_j}\\right): j\\in \\{0,...,n\\}}$<br>\n",
    "***NB!*** ${\\max\\left(\\ln(x)\\right) = \\min\\left(-ln(x)\\right)}$"
   ]
  },
  {
   "cell_type": "markdown",
   "id": "96d0ce7a",
   "metadata": {},
   "source": [
    "${\\ln\\left(L\\left(\\overrightarrow{\\beta}\\right)\\right) = \\sum_{j=1}^{n} y_j \\cdot \\ln\\left(\\sigma\\left(\\overrightarrow{\\beta},\\overrightarrow{x}_j\\right)\\right) + \\sum_{j=1}^{n} \\left(1 - y_j\\right) \\cdot \\ln\\left(1 - \\sigma\\left(\\overrightarrow{\\beta},\\overrightarrow{x}_j\\right)\\right) \\ j \\in \\{0,...,n\\}}$\n",
    "${-\\ln\\left(L\\left(\\overrightarrow{\\beta}\\right)\\right) = -\\sum_{j=1}^{n} y_j \\cdot \\ln\\left(\\sigma\\left(\\overrightarrow{\\beta},\\overrightarrow{x}_j\\right)\\right) - \\sum_{j=1}^{n} \\left(1 - y_j\\right) \\cdot \\ln\\left(1 - \\sigma\\left(\\overrightarrow{\\beta},\\overrightarrow{x}_j\\right)\\right) \\ j \\in \\{0,...,n\\}}$\n",
    "${NLP\\left(\\sigma\\left(\\overrightarrow{\\beta},\\overrightarrow{x}_j\\right)\\right) = -\\sum_{j=1}^{n} y_j \\cdot \\ln\\left(\\sigma\\left(\\overrightarrow{\\beta},\\overrightarrow{x}_j\\right)\\right) - \\sum_{j=1}^{n} \\left(1 - y_j\\right) \\cdot \\ln\\left(1 - \\sigma\\left(\\overrightarrow{\\beta},\\overrightarrow{x}_j\\right)\\right) \\ j \\in \\{0,...,n\\}}$"
   ]
  },
  {
   "cell_type": "markdown",
   "id": "d4ec95b3",
   "metadata": {},
   "source": [
    "***NB!*** NLP = Negative Likelihood Probability = Cost Function<br>\n",
    "So, we are done and the only thing left is to find min of this NLP function."
   ]
  },
  {
   "cell_type": "code",
   "execution_count": 81,
   "id": "c98872b9",
   "metadata": {},
   "outputs": [],
   "source": [
    "# The picture it illustrates looks like\n",
    "x = np.arange(0.0001,1,0.00001)\n",
    "y1 = np.array([-log(el) for el in x])\n",
    "y2 = np.array([-log(1 - el) for el in x])"
   ]
  },
  {
   "cell_type": "code",
   "execution_count": 82,
   "id": "fc5cd0f5",
   "metadata": {},
   "outputs": [
    {
     "data": {
      "image/png": "[encoded data removed]",
      "text/plain": [
       "<Figure size 432x288 with 1 Axes>"
      ]
     },
     "metadata": {
      "needs_background": "light"
     },
     "output_type": "display_data"
    }
   ],
   "source": [
    "plt.plot(x,y1,color= \"red\",label= \"f(x) = -log(x)\")\n",
    "plt.plot(x,y2,color= \"black\",label= \"g(x) = -log(1 - x)\")\n",
    "plt.grid(True)\n",
    "plt.legend(loc= \"best\")\n",
    "plt.show()"
   ]
  },
  {
   "cell_type": "markdown",
   "id": "e09fc208",
   "metadata": {},
   "source": [
    "As we can see, this function has only one global minimum. So, now it is possible to use gradient descent to access it.<br>\n",
    "***If*** we decide to use Ordinary Least Squares<br>\n",
    "***Then*** it'll be very sad to realize that our function has more than one extr point and our approximation is incorrect."
   ]
  },
  {
   "cell_type": "code",
   "execution_count": null,
   "id": "01799fd6",
   "metadata": {},
   "outputs": [],
   "source": []
  }
 ],
 "metadata": {
  "kernelspec": {
   "display_name": "Python 3",
   "language": "python",
   "name": "python3"
  },
  "language_info": {
   "codemirror_mode": {
    "name": "ipython",
    "version": 3
   },
   "file_extension": ".py",
   "mimetype": "text/x-python",
   "name": "python",
   "nbconvert_exporter": "python",
   "pygments_lexer": "ipython3",
   "version": "3.8.5"
  }
 },
 "nbformat": 4,
 "nbformat_minor": 5
}
