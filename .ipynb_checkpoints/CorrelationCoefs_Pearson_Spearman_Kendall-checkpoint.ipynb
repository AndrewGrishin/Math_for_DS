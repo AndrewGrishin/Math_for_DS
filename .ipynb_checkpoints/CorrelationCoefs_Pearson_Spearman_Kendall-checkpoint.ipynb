{
 "cells": [
  {
   "cell_type": "code",
   "execution_count": 1,
   "id": "320d0053",
   "metadata": {},
   "outputs": [],
   "source": [
    "import numpy as np\n",
    "import matplotlib.pyplot as plt\n",
    "import scipy.stats\n",
    "import pandas as pd"
   ]
  },
  {
   "cell_type": "code",
   "execution_count": 2,
   "id": "810fa08d",
   "metadata": {},
   "outputs": [],
   "source": [
    "x = np.arange(10,20)\n",
    "y = np.array([2, 1, 4, 5, 8, 12, 18, 25, 96, 48])"
   ]
  },
  {
   "cell_type": "markdown",
   "id": "55b741ef",
   "metadata": {},
   "source": [
    "### Pearson R correclation values"
   ]
  },
  {
   "cell_type": "code",
   "execution_count": 3,
   "id": "bbac91d3",
   "metadata": {},
   "outputs": [],
   "source": [
    "corr_matrix = np.corrcoef(x,y)"
   ]
  },
  {
   "cell_type": "code",
   "execution_count": 4,
   "id": "70897b81",
   "metadata": {},
   "outputs": [
    {
     "data": {
      "image/png": "[encoded data removed]",
      "text/plain": [
       "<Figure size 432x288 with 1 Axes>"
      ]
     },
     "metadata": {
      "needs_background": "light"
     },
     "output_type": "display_data"
    }
   ],
   "source": [
    "plt.scatter(x,y,color= \"red\",marker= \"*\")\n",
    "plt.xlabel(\"x\")\n",
    "plt.ylabel(\"y\")\n",
    "plt.show()"
   ]
  },
  {
   "cell_type": "markdown",
   "id": "1d5c18d6",
   "metadata": {},
   "source": [
    "### Pearson's R correclation values and other correclation computations but in SciPy"
   ]
  },
  {
   "cell_type": "markdown",
   "id": "569b5aa5",
   "metadata": {},
   "source": [
    "#### Allows index notation (return 2 values: corr coef and p-value for test of non-correlation"
   ]
  },
  {
   "cell_type": "code",
   "execution_count": 5,
   "id": "af3b9f7e",
   "metadata": {},
   "outputs": [
    {
     "data": {
      "text/plain": [
       "(0.758640289091187, 0.010964341301680813)"
      ]
     },
     "execution_count": 5,
     "metadata": {},
     "output_type": "execute_result"
    }
   ],
   "source": [
    "scipy.stats.pearsonr(x,y)"
   ]
  },
  {
   "cell_type": "markdown",
   "id": "2dc488e8",
   "metadata": {},
   "source": [
    "#### Does not allow index notation (returns class-object)"
   ]
  },
  {
   "cell_type": "code",
   "execution_count": 6,
   "id": "e88396e0",
   "metadata": {},
   "outputs": [
    {
     "data": {
      "text/plain": [
       "SpearmanrResult(correlation=0.9757575757575757, pvalue=1.4675461874042197e-06)"
      ]
     },
     "execution_count": 6,
     "metadata": {},
     "output_type": "execute_result"
    }
   ],
   "source": [
    "scipy.stats.spearmanr(x,y)"
   ]
  },
  {
   "cell_type": "code",
   "execution_count": 7,
   "id": "68867699",
   "metadata": {},
   "outputs": [
    {
     "data": {
      "text/plain": [
       "KendalltauResult(correlation=0.911111111111111, pvalue=2.9761904761904762e-05)"
      ]
     },
     "execution_count": 7,
     "metadata": {},
     "output_type": "execute_result"
    }
   ],
   "source": [
    "scipy.stats.kendalltau(x,y)"
   ]
  },
  {
   "cell_type": "code",
   "execution_count": 8,
   "id": "f79312f4",
   "metadata": {},
   "outputs": [],
   "source": [
    "new_x = pd.Series(range(10,20))\n",
    "new_y = pd.Series([2, 1, 4, 5, 8, 12, 18, 25, 96, 48])"
   ]
  },
  {
   "cell_type": "code",
   "execution_count": 9,
   "id": "9943f587",
   "metadata": {},
   "outputs": [
    {
     "data": {
      "text/plain": [
       "0    10\n",
       "1    11\n",
       "2    12\n",
       "3    13\n",
       "4    14\n",
       "5    15\n",
       "6    16\n",
       "7    17\n",
       "8    18\n",
       "9    19\n",
       "dtype: int64"
      ]
     },
     "execution_count": 9,
     "metadata": {},
     "output_type": "execute_result"
    }
   ],
   "source": [
    "new_x"
   ]
  },
  {
   "cell_type": "code",
   "execution_count": 10,
   "id": "bfdec596",
   "metadata": {},
   "outputs": [
    {
     "data": {
      "text/plain": [
       "0     2\n",
       "1     1\n",
       "2     4\n",
       "3     5\n",
       "4     8\n",
       "5    12\n",
       "6    18\n",
       "7    25\n",
       "8    96\n",
       "9    48\n",
       "dtype: int64"
      ]
     },
     "execution_count": 10,
     "metadata": {},
     "output_type": "execute_result"
    }
   ],
   "source": [
    "new_y"
   ]
  },
  {
   "cell_type": "markdown",
   "id": "9441425d",
   "metadata": {},
   "source": [
    "### One more way to compute correlation (with pandas)"
   ]
  },
  {
   "cell_type": "code",
   "execution_count": 11,
   "id": "93ea77d0",
   "metadata": {},
   "outputs": [
    {
     "data": {
      "text/plain": [
       "0.7586402890911869"
      ]
     },
     "execution_count": 11,
     "metadata": {},
     "output_type": "execute_result"
    }
   ],
   "source": [
    "# method= \"method name to compute correlation\"\n",
    "new_y.corr(new_x,method= \"pearson\")"
   ]
  },
  {
   "cell_type": "code",
   "execution_count": 12,
   "id": "592a1ab3",
   "metadata": {},
   "outputs": [
    {
     "data": {
      "text/plain": [
       "0.7586402890911867"
      ]
     },
     "execution_count": 12,
     "metadata": {},
     "output_type": "execute_result"
    }
   ],
   "source": [
    "new_x.corr(new_y,method= \"pearson\")"
   ]
  },
  {
   "cell_type": "code",
   "execution_count": 13,
   "id": "e74d5204",
   "metadata": {},
   "outputs": [
    {
     "data": {
      "text/plain": [
       "0.911111111111111"
      ]
     },
     "execution_count": 13,
     "metadata": {},
     "output_type": "execute_result"
    }
   ],
   "source": [
    "new_y.corr(new_x,method= \"kendall\")"
   ]
  },
  {
   "cell_type": "code",
   "execution_count": 14,
   "id": "025d4c1c",
   "metadata": {},
   "outputs": [
    {
     "data": {
      "text/plain": [
       "0.9757575757575757"
      ]
     },
     "execution_count": 14,
     "metadata": {},
     "output_type": "execute_result"
    }
   ],
   "source": [
    "new_y.corr(new_x,method= \"spearman\")"
   ]
  },
  {
   "cell_type": "markdown",
   "id": "143a62a1",
   "metadata": {},
   "source": [
    "## Linear correlation"
   ]
  },
  {
   "cell_type": "code",
   "execution_count": 15,
   "id": "6150461a",
   "metadata": {},
   "outputs": [],
   "source": [
    "reg_res = scipy.stats.linregress(x.T,y.T)"
   ]
  },
  {
   "cell_type": "markdown",
   "id": "2491e06f",
   "metadata": {},
   "source": [
    "### Returns the object with: coefs and intercepts, r_values [correlation] (not chi^2), p_value, stdev)"
   ]
  },
  {
   "cell_type": "code",
   "execution_count": 16,
   "id": "b3f16dcb",
   "metadata": {},
   "outputs": [],
   "source": [
    "y_predicted = reg_res.intercept + reg_res.slope * x"
   ]
  },
  {
   "cell_type": "code",
   "execution_count": 17,
   "id": "e7795cb1",
   "metadata": {},
   "outputs": [
    {
     "data": {
      "image/png": "[encoded data removed]",
      "text/plain": [
       "<Figure size 432x288 with 1 Axes>"
      ]
     },
     "metadata": {
      "needs_background": "light"
     },
     "output_type": "display_data"
    }
   ],
   "source": [
    "plt.scatter(x,y,color= \"red\",marker= \"*\")\n",
    "plt.plot(x,y_predicted,color= \"blue\",marker= \"*\")\n",
    "plt.show()"
   ]
  },
  {
   "cell_type": "code",
   "execution_count": 18,
   "id": "54150c9f",
   "metadata": {},
   "outputs": [
    {
     "data": {
      "text/plain": [
       "2.257878767543913"
      ]
     },
     "execution_count": 18,
     "metadata": {},
     "output_type": "execute_result"
    }
   ],
   "source": [
    "reg_res.stderr"
   ]
  },
  {
   "cell_type": "markdown",
   "id": "1b37dbc6",
   "metadata": {},
   "source": [
    "### Also it is necessary to check if the DATA contains NaN values"
   ]
  },
  {
   "cell_type": "code",
   "execution_count": 19,
   "id": "e6e90486",
   "metadata": {},
   "outputs": [
    {
     "data": {
      "text/plain": [
       "(nan, float)"
      ]
     },
     "execution_count": 19,
     "metadata": {},
     "output_type": "execute_result"
    }
   ],
   "source": [
    "(np.nan,type(np.nan))"
   ]
  },
  {
   "cell_type": "code",
   "execution_count": 20,
   "id": "b5a1ab5e",
   "metadata": {},
   "outputs": [],
   "source": [
    "nan_value_in = [1,2,3,np.nan,100]\n",
    "for val in nan_value_in:\n",
    "    if val == np.nan:\n",
    "        print(\"Found NaN\")\n",
    "# Strange"
   ]
  },
  {
   "cell_type": "code",
   "execution_count": 21,
   "id": "fcf15a81",
   "metadata": {},
   "outputs": [
    {
     "data": {
      "text/plain": [
       "False"
      ]
     },
     "execution_count": 21,
     "metadata": {},
     "output_type": "execute_result"
    }
   ],
   "source": [
    "# Impossible to compare like this\n",
    "np.nan == np.nan"
   ]
  },
  {
   "cell_type": "code",
   "execution_count": 22,
   "id": "c799b311",
   "metadata": {},
   "outputs": [
    {
     "data": {
      "text/plain": [
       "True"
      ]
     },
     "execution_count": 22,
     "metadata": {},
     "output_type": "execute_result"
    }
   ],
   "source": [
    "# Such way of comparison is legitable\n",
    "np.isnan(np.nan)"
   ]
  },
  {
   "cell_type": "code",
   "execution_count": 23,
   "id": "c982e1e4",
   "metadata": {},
   "outputs": [
    {
     "name": "stdout",
     "output_type": "stream",
     "text": [
      "Found NaN\n"
     ]
    }
   ],
   "source": [
    "nan_value_in = [1,2,3,np.nan,100]\n",
    "for val in nan_value_in:\n",
    "    if np.isnan(val):\n",
    "        print(\"Found NaN\")"
   ]
  },
  {
   "cell_type": "code",
   "execution_count": 24,
   "id": "8db5623c",
   "metadata": {},
   "outputs": [],
   "source": [
    "z = np.array([5, 3, 2, 1, 0, -2, -8, -11, -15, -16])"
   ]
  },
  {
   "cell_type": "code",
   "execution_count": 25,
   "id": "eb0804c9",
   "metadata": {},
   "outputs": [
    {
     "data": {
      "text/plain": [
       "(array([10, 11, 12, 13, 14, 15, 16, 17, 18, 19]),\n",
       " array([ 2,  1,  4,  5,  8, 12, 18, 25, 96, 48]),\n",
       " array([  5,   3,   2,   1,   0,  -2,  -8, -11, -15, -16]))"
      ]
     },
     "execution_count": 25,
     "metadata": {},
     "output_type": "execute_result"
    }
   ],
   "source": [
    "(x,y,z)"
   ]
  },
  {
   "cell_type": "markdown",
   "id": "e0458494",
   "metadata": {},
   "source": [
    "### If necessary to compute correlation matrics of several vectors, use [list of vectors]"
   ]
  },
  {
   "cell_type": "markdown",
   "id": "2193c6c5",
   "metadata": {},
   "source": [
    "#### By default, numpy.corrcoef() considers the rows as features and the columns as observations. If you want the opposite behavior, which is widely used in machine learning, then use the argument rowvar=False:"
   ]
  },
  {
   "cell_type": "code",
   "execution_count": 26,
   "id": "de318a4b",
   "metadata": {},
   "outputs": [],
   "source": [
    "xyz = np.array([x,y,z])"
   ]
  },
  {
   "cell_type": "code",
   "execution_count": 27,
   "id": "dedf7986",
   "metadata": {},
   "outputs": [
    {
     "data": {
      "text/plain": [
       "array([[ 10,  11,  12,  13,  14,  15,  16,  17,  18,  19],\n",
       "       [  2,   1,   4,   5,   8,  12,  18,  25,  96,  48],\n",
       "       [  5,   3,   2,   1,   0,  -2,  -8, -11, -15, -16]])"
      ]
     },
     "execution_count": 27,
     "metadata": {},
     "output_type": "execute_result"
    }
   ],
   "source": [
    "xyz"
   ]
  },
  {
   "cell_type": "code",
   "execution_count": 28,
   "id": "b1737a1b",
   "metadata": {},
   "outputs": [
    {
     "data": {
      "text/plain": [
       "array([[ 10,   2,   5],\n",
       "       [ 11,   1,   3],\n",
       "       [ 12,   4,   2],\n",
       "       [ 13,   5,   1],\n",
       "       [ 14,   8,   0],\n",
       "       [ 15,  12,  -2],\n",
       "       [ 16,  18,  -8],\n",
       "       [ 17,  25, -11],\n",
       "       [ 18,  96, -15],\n",
       "       [ 19,  48, -16]])"
      ]
     },
     "execution_count": 28,
     "metadata": {},
     "output_type": "execute_result"
    }
   ],
   "source": [
    "# better view for Machine Learning stuff\n",
    "xyz.T"
   ]
  },
  {
   "cell_type": "markdown",
   "id": "0c2afb8e",
   "metadata": {},
   "source": [
    "#### If: rowvar = True (by default) \n",
    "#### Then: Row = feature, Column = observation\n",
    "#### Else: (rowvar = False)\n",
    "#### Then: Row = observation, Column = feature"
   ]
  },
  {
   "cell_type": "code",
   "execution_count": 29,
   "id": "5f0b1b70",
   "metadata": {},
   "outputs": [
    {
     "data": {
      "text/plain": [
       "array([[ 1.        ,  0.75864029, -0.96807242],\n",
       "       [ 0.75864029,  1.        , -0.83407922],\n",
       "       [-0.96807242, -0.83407922,  1.        ]])"
      ]
     },
     "execution_count": 29,
     "metadata": {},
     "output_type": "execute_result"
    }
   ],
   "source": [
    "np.corrcoef(xyz.T,rowvar= False)"
   ]
  },
  {
   "cell_type": "markdown",
   "id": "f1aa6f69",
   "metadata": {},
   "source": [
    "#### Going back into pandas module"
   ]
  },
  {
   "cell_type": "code",
   "execution_count": 39,
   "id": "d81b9f7d",
   "metadata": {},
   "outputs": [
    {
     "data": {
      "text/plain": [
       "(array([10, 11, 12, 13, 14, 15, 16, 17, 18, 19]),\n",
       " array([ 2,  1,  4,  5,  8, 12, 18, 25, 96, 48]),\n",
       " array([  5,   3,   2,   1,   0,  -2,  -8, -11, -15, -16]))"
      ]
     },
     "execution_count": 39,
     "metadata": {},
     "output_type": "execute_result"
    }
   ],
   "source": [
    "(x,y,z)"
   ]
  },
  {
   "cell_type": "code",
   "execution_count": 40,
   "id": "c0bde429",
   "metadata": {},
   "outputs": [],
   "source": [
    "xyz = pd.DataFrame({\n",
    "    \"x\": x,\n",
    "    \"y\": y,\n",
    "    \"z\": z\n",
    "})"
   ]
  },
  {
   "cell_type": "code",
   "execution_count": 41,
   "id": "ec840d32",
   "metadata": {},
   "outputs": [
    {
     "data": {
      "text/html": [
       "<div>\n",
       "<style scoped>\n",
       "    .dataframe tbody tr th:only-of-type {\n",
       "        vertical-align: middle;\n",
       "    }\n",
       "\n",
       "    .dataframe tbody tr th {\n",
       "        vertical-align: top;\n",
       "    }\n",
       "\n",
       "    .dataframe thead th {\n",
       "        text-align: right;\n",
       "    }\n",
       "</style>\n",
       "<table border=\"1\" class=\"dataframe\">\n",
       "  <thead>\n",
       "    <tr style=\"text-align: right;\">\n",
       "      <th></th>\n",
       "      <th>x</th>\n",
       "      <th>y</th>\n",
       "      <th>z</th>\n",
       "    </tr>\n",
       "  </thead>\n",
       "  <tbody>\n",
       "    <tr>\n",
       "      <th>x</th>\n",
       "      <td>1.000000</td>\n",
       "      <td>0.758640</td>\n",
       "      <td>-0.968072</td>\n",
       "    </tr>\n",
       "    <tr>\n",
       "      <th>y</th>\n",
       "      <td>0.758640</td>\n",
       "      <td>1.000000</td>\n",
       "      <td>-0.834079</td>\n",
       "    </tr>\n",
       "    <tr>\n",
       "      <th>z</th>\n",
       "      <td>-0.968072</td>\n",
       "      <td>-0.834079</td>\n",
       "      <td>1.000000</td>\n",
       "    </tr>\n",
       "  </tbody>\n",
       "</table>\n",
       "</div>"
      ],
      "text/plain": [
       "          x         y         z\n",
       "x  1.000000  0.758640 -0.968072\n",
       "y  0.758640  1.000000 -0.834079\n",
       "z -0.968072 -0.834079  1.000000"
      ]
     },
     "execution_count": 41,
     "metadata": {},
     "output_type": "execute_result"
    }
   ],
   "source": [
    "xyz.corr()"
   ]
  },
  {
   "cell_type": "markdown",
   "id": "d0593ed8",
   "metadata": {},
   "source": [
    "#### Useful method .corrwith()"
   ]
  },
  {
   "cell_type": "code",
   "execution_count": 50,
   "id": "d3e16923",
   "metadata": {},
   "outputs": [],
   "source": [
    "xy = pd.DataFrame({\n",
    "    \"x\": x,\n",
    "    \"y\": y\n",
    "})"
   ]
  },
  {
   "cell_type": "code",
   "execution_count": 51,
   "id": "6d9ed7ad",
   "metadata": {},
   "outputs": [
    {
     "data": {
      "text/html": [
       "<div>\n",
       "<style scoped>\n",
       "    .dataframe tbody tr th:only-of-type {\n",
       "        vertical-align: middle;\n",
       "    }\n",
       "\n",
       "    .dataframe tbody tr th {\n",
       "        vertical-align: top;\n",
       "    }\n",
       "\n",
       "    .dataframe thead th {\n",
       "        text-align: right;\n",
       "    }\n",
       "</style>\n",
       "<table border=\"1\" class=\"dataframe\">\n",
       "  <thead>\n",
       "    <tr style=\"text-align: right;\">\n",
       "      <th></th>\n",
       "      <th>x</th>\n",
       "      <th>y</th>\n",
       "    </tr>\n",
       "  </thead>\n",
       "  <tbody>\n",
       "    <tr>\n",
       "      <th>0</th>\n",
       "      <td>10</td>\n",
       "      <td>2</td>\n",
       "    </tr>\n",
       "    <tr>\n",
       "      <th>1</th>\n",
       "      <td>11</td>\n",
       "      <td>1</td>\n",
       "    </tr>\n",
       "    <tr>\n",
       "      <th>2</th>\n",
       "      <td>12</td>\n",
       "      <td>4</td>\n",
       "    </tr>\n",
       "    <tr>\n",
       "      <th>3</th>\n",
       "      <td>13</td>\n",
       "      <td>5</td>\n",
       "    </tr>\n",
       "    <tr>\n",
       "      <th>4</th>\n",
       "      <td>14</td>\n",
       "      <td>8</td>\n",
       "    </tr>\n",
       "    <tr>\n",
       "      <th>5</th>\n",
       "      <td>15</td>\n",
       "      <td>12</td>\n",
       "    </tr>\n",
       "    <tr>\n",
       "      <th>6</th>\n",
       "      <td>16</td>\n",
       "      <td>18</td>\n",
       "    </tr>\n",
       "    <tr>\n",
       "      <th>7</th>\n",
       "      <td>17</td>\n",
       "      <td>25</td>\n",
       "    </tr>\n",
       "    <tr>\n",
       "      <th>8</th>\n",
       "      <td>18</td>\n",
       "      <td>96</td>\n",
       "    </tr>\n",
       "    <tr>\n",
       "      <th>9</th>\n",
       "      <td>19</td>\n",
       "      <td>48</td>\n",
       "    </tr>\n",
       "  </tbody>\n",
       "</table>\n",
       "</div>"
      ],
      "text/plain": [
       "    x   y\n",
       "0  10   2\n",
       "1  11   1\n",
       "2  12   4\n",
       "3  13   5\n",
       "4  14   8\n",
       "5  15  12\n",
       "6  16  18\n",
       "7  17  25\n",
       "8  18  96\n",
       "9  19  48"
      ]
     },
     "execution_count": 51,
     "metadata": {},
     "output_type": "execute_result"
    }
   ],
   "source": [
    "xy"
   ]
  },
  {
   "cell_type": "code",
   "execution_count": 52,
   "id": "a26f52a3",
   "metadata": {},
   "outputs": [],
   "source": [
    "z = pd.Series(z)"
   ]
  },
  {
   "cell_type": "code",
   "execution_count": 49,
   "id": "ca1828f0",
   "metadata": {},
   "outputs": [
    {
     "data": {
      "text/plain": [
       "x   -0.968072\n",
       "y   -0.834079\n",
       "dtype: float64"
      ]
     },
     "execution_count": 49,
     "metadata": {},
     "output_type": "execute_result"
    }
   ],
   "source": [
    "# Allows to find corrs between certain rows and columns in DataFrames and Series\n",
    "xy.corrwith(z)"
   ]
  },
  {
   "cell_type": "markdown",
   "id": "3985ea2a",
   "metadata": {},
   "source": [
    "## Spearman's ${\\rho}$ and Kendall's ${\\tau}$"
   ]
  },
  {
   "cell_type": "markdown",
   "id": "9a5329cb",
   "metadata": {},
   "source": [
    "The Spearman correlation coefficient between two features is the Pearson correlation coefficient between their rank values. It’s calculated the same way as the Pearson correlation coefficient but takes into account their ranks instead of their values."
   ]
  },
  {
   "cell_type": "markdown",
   "id": "fd145a64",
   "metadata": {},
   "source": [
    "${\\rho,\\tau \\in [-1,1]}$"
   ]
  },
  {
   "cell_type": "markdown",
   "id": "4ca8774e",
   "metadata": {},
   "source": [
    "Its maximum value ρ = 1 corresponds to the case when there’s a monotonically increasing function between x and y. In other words, larger x values correspond to larger y values and vice versa."
   ]
  },
  {
   "cell_type": "code",
   "execution_count": 59,
   "id": "9b5698a9",
   "metadata": {},
   "outputs": [
    {
     "data": {
      "text/plain": [
       "KendalltauResult(correlation=0.911111111111111, pvalue=2.9761904761904762e-05)"
      ]
     },
     "execution_count": 59,
     "metadata": {},
     "output_type": "execute_result"
    }
   ],
   "source": [
    "scipy.stats.kendalltau(x,y)"
   ]
  },
  {
   "cell_type": "code",
   "execution_count": 60,
   "id": "179b954a",
   "metadata": {},
   "outputs": [
    {
     "data": {
      "text/plain": [
       "SpearmanrResult(correlation=0.9757575757575757, pvalue=1.4675461874042197e-06)"
      ]
     },
     "execution_count": 60,
     "metadata": {},
     "output_type": "execute_result"
    }
   ],
   "source": [
    "scipy.stats.spearmanr(x,y)"
   ]
  },
  {
   "cell_type": "markdown",
   "id": "684b5ab7",
   "metadata": {},
   "source": [
    "## About data ranks"
   ]
  },
  {
   "cell_type": "code",
   "execution_count": 69,
   "id": "592ff7df",
   "metadata": {},
   "outputs": [],
   "source": [
    "x = np.arange(10,20)\n",
    "y = np.array([2, 2, 2, 2, 2, 5, 8, 12, 18, 25, 96, 48])\n",
    "z = np.array([5, 3, 2, 1, 0, -2, -8, -11, -15, -16])"
   ]
  },
  {
   "cell_type": "code",
   "execution_count": 70,
   "id": "f172ed63",
   "metadata": {},
   "outputs": [
    {
     "data": {
      "text/plain": [
       "array([ 1.,  2.,  3.,  4.,  5.,  6.,  7.,  8.,  9., 10.])"
      ]
     },
     "execution_count": 70,
     "metadata": {},
     "output_type": "execute_result"
    }
   ],
   "source": [
    "scipy.stats.rankdata(x)"
   ]
  },
  {
   "cell_type": "code",
   "execution_count": 71,
   "id": "6bb5b672",
   "metadata": {},
   "outputs": [
    {
     "data": {
      "text/plain": [
       "array([ 3.,  3.,  3.,  3.,  3.,  6.,  7.,  8.,  9., 10., 12., 11.])"
      ]
     },
     "execution_count": 71,
     "metadata": {},
     "output_type": "execute_result"
    }
   ],
   "source": [
    "scipy.stats.rankdata(y)"
   ]
  },
  {
   "cell_type": "code",
   "execution_count": 68,
   "id": "71394f2e",
   "metadata": {},
   "outputs": [
    {
     "data": {
      "text/plain": [
       "array([10.,  9.,  8.,  7.,  6.,  5.,  4.,  3.,  2.,  1.])"
      ]
     },
     "execution_count": 68,
     "metadata": {},
     "output_type": "execute_result"
    }
   ],
   "source": [
    "scipy.stats.rankdata(z)"
   ]
  },
  {
   "cell_type": "code",
   "execution_count": 75,
   "id": "02aee4a1",
   "metadata": {},
   "outputs": [
    {
     "data": {
      "text/plain": [
       "array([ 1,  2,  3,  4,  5,  6,  7,  8,  9, 10])"
      ]
     },
     "execution_count": 75,
     "metadata": {},
     "output_type": "execute_result"
    }
   ],
   "source": [
    "# NB it is possible to get list of INDICES of ascending elements via np.argsort()\n",
    "np.argsort(x) + 1"
   ]
  },
  {
   "cell_type": "code",
   "execution_count": 76,
   "id": "4920e0a6",
   "metadata": {},
   "outputs": [
    {
     "data": {
      "text/plain": [
       "array([ 1,  2,  3,  4,  5,  6,  7,  8,  9, 10, 12, 11])"
      ]
     },
     "execution_count": 76,
     "metadata": {},
     "output_type": "execute_result"
    }
   ],
   "source": [
    "np.argsort(y) + 1"
   ]
  },
  {
   "cell_type": "code",
   "execution_count": 77,
   "id": "a1880417",
   "metadata": {},
   "outputs": [
    {
     "data": {
      "text/plain": [
       "array([10,  9,  8,  7,  6,  5,  4,  3,  2,  1])"
      ]
     },
     "execution_count": 77,
     "metadata": {},
     "output_type": "execute_result"
    }
   ],
   "source": [
    "np.argsort(z) + 1"
   ]
  }
 ],
 "metadata": {
  "kernelspec": {
   "display_name": "Python 3",
   "language": "python",
   "name": "python3"
  },
  "language_info": {
   "codemirror_mode": {
    "name": "ipython",
    "version": 3
   },
   "file_extension": ".py",
   "mimetype": "text/x-python",
   "name": "python",
   "nbconvert_exporter": "python",
   "pygments_lexer": "ipython3",
   "version": "3.8.5"
  }
 },
 "nbformat": 4,
 "nbformat_minor": 5
}
