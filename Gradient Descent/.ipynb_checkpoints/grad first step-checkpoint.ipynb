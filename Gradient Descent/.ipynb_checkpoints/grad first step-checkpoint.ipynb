{
 "cells": [
  {
   "cell_type": "code",
   "execution_count": 135,
   "id": "a13b4fb0-ee32-480d-8395-af7b934aba20",
   "metadata": {},
   "outputs": [],
   "source": [
    "import numpy as np\n",
    "import matplotlib.pyplot as plt\n",
    "from math import sin"
   ]
  },
  {
   "cell_type": "code",
   "execution_count": 136,
   "id": "53e68f82-ffc9-43de-b466-66ba06869b70",
   "metadata": {},
   "outputs": [],
   "source": [
    "def f(x):\n",
    "    return -x**5 - 2 * x**3 + 1 - x\n",
    "def d(f):\n",
    "    delta = 10e-10\n",
    "    def h(x):\n",
    "        return (f(x + delta) - f(x)) / delta\n",
    "    return h"
   ]
  },
  {
   "cell_type": "code",
   "execution_count": 137,
   "id": "c0d1c390-9dfa-45db-9635-851a5e83993a",
   "metadata": {},
   "outputs": [],
   "source": [
    "x = []\n",
    "y = []\n",
    "\n",
    "value = -2.5\n",
    "step = 0.0001\n",
    "\n",
    "while abs(value - 1.5) >= 10e-2:\n",
    "    x.append(value)\n",
    "    y.append(f(value))\n",
    "    value += step\n",
    "    \n",
    "x = np.array(x)\n",
    "y = np.array(y)"
   ]
  },
  {
   "cell_type": "code",
   "execution_count": 138,
   "id": "8212983d-5bc5-4c1b-87d4-5b2bcf2a936d",
   "metadata": {},
   "outputs": [
    {
     "data": {
      "image/png": "[encoded data removed]",
      "text/plain": [
       "<Figure size 432x288 with 1 Axes>"
      ]
     },
     "metadata": {
      "needs_background": "light"
     },
     "output_type": "display_data"
    }
   ],
   "source": [
    "plt.plot(x,y, marker= \"\")\n",
    "plt.show()"
   ]
  },
  {
   "cell_type": "code",
   "execution_count": null,
   "id": "3ec42693-6fc9-4b20-a44c-3f7a714a1548",
   "metadata": {},
   "outputs": [],
   "source": [
    "df = d(f)\n",
    "seeds = [-7,7]\n",
    "for seed in seeds:\n",
    "    lseed = seed\n",
    "    v = 10e-3\n",
    "\n",
    "    while df(lseed) != 0:\n",
    "        lseed = min([lseed - v, lseed + v],key= lambda a: abs(df(a)))\n",
    "    print(lseed, df(lseed))"
   ]
  },
  {
   "cell_type": "code",
   "execution_count": null,
   "id": "c208a70e-016a-457e-89f7-0a720c616c14",
   "metadata": {},
   "outputs": [],
   "source": []
  },
  {
   "cell_type": "code",
   "execution_count": null,
   "id": "48c006c4-4796-450b-b29d-377d63ebb4c0",
   "metadata": {},
   "outputs": [],
   "source": []
  }
 ],
 "metadata": {
  "kernelspec": {
   "display_name": "Python 3",
   "language": "python",
   "name": "python3"
  },
  "language_info": {
   "codemirror_mode": {
    "name": "ipython",
    "version": 3
   },
   "file_extension": ".py",
   "mimetype": "text/x-python",
   "name": "python",
   "nbconvert_exporter": "python",
   "pygments_lexer": "ipython3",
   "version": "3.8.5"
  }
 },
 "nbformat": 4,
 "nbformat_minor": 5
}
