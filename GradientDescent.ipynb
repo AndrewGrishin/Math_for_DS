{
 "cells": [
  {
   "cell_type": "markdown",
   "id": "039ccf27",
   "metadata": {},
   "source": [
    "## Gradient Descent"
   ]
  },
  {
   "cell_type": "markdown",
   "id": "89329807",
   "metadata": {},
   "source": [
    "First of all, lets look at the example."
   ]
  },
  {
   "cell_type": "code",
   "execution_count": null,
   "id": "b3c42771",
   "metadata": {},
   "outputs": [],
   "source": [
    "import numpy as np\n",
    "import random as rnd\n",
    "import matplotlib.pyplot as plt"
   ]
  },
  {
   "cell_type": "code",
   "execution_count": null,
   "id": "5255256b",
   "metadata": {},
   "outputs": [],
   "source": [
    "x = np.arange(-10,20,0.5)\n",
    "y = np.array([(5 + rnd.random()) * el + 10 for el in x])"
   ]
  },
  {
   "cell_type": "code",
   "execution_count": null,
   "id": "519bca62",
   "metadata": {},
   "outputs": [],
   "source": [
    "plt.scatter(x,y,marker= \".\",color= \"red\",label= \"Function 1\")\n",
    "plt.grid(True)\n",
    "plt.show()"
   ]
  },
  {
   "cell_type": "markdown",
   "id": "9766fa92",
   "metadata": {},
   "source": [
    "Lets assume that our dependance is linear.<br>\n",
    "${y_j = \\beta_0 + \\beta_1 \\cdot x_j + \\epsilon_j: j \\in \\{1,...n\\}}$<br>\n",
    "So the model we want to approximate is: ${\\hat{y}_j = \\hat{\\beta}_0 + \\hat{\\beta}_1 \\cdot x_j}$<br>\n",
    "To do it, we will: \n",
    "1. Compute the gradient of the Cost-Function\n",
    "2. Use it iteratively to access the min point, where the Cost-Function has ***global*** minimum.\n",
    "3. Necessary to check if this minimum is ***global***<br>\n",
    "Lets start our theoretical experiment! (but first - bathroom and shaving)"
   ]
  },
  {
   "cell_type": "markdown",
   "id": "933f6e48",
   "metadata": {},
   "source": [
    "### Block 1\n",
    "1. ${\\hat{y}_j = \\hat{\\beta}_0 + \\hat{\\beta}_1 * x_j + \\hat{\\beta}_2 \\cdot x_j^{2}}$\n",
    "2. ${e_j^2 = \\left(\\hat{y}_j - y_j\\right)^2 => \\sum_{j = 1}^n{\\left(\\hat{y}_j - y_j\\right)^2} =>\\newline CostFunction\\left(\\hat{\\beta}_0,\\hat{\\beta}_1,\\hat{\\beta}_2\\right) = \\sum_{j = 1}^n{\\left(\\hat{\\beta}_0 + \\hat{\\beta}_1 \\cdot x_j + \\hat{\\beta}_2 \\cdot x_j^{2} - y_j\\right)^2} \\rightarrow \\min{\\hat{\\beta}_0,\\hat{\\beta}_1,\\hat{\\beta}_2}}$\n",
    "3. ${\\frac{\\partial CF\\left(\\hat{\\beta}_0,\\hat{\\beta}_1,\\hat{\\beta}_2\\right)}{\\partial {\\hat{\\beta}}} = \\left(\\frac{\\partial CF\\left(\\hat{\\beta}_0,\\hat{\\beta}_1,\\hat{\\beta}_2\\right)}{\\partial \\hat{\\beta}_0}, \\frac{\\partial CF\\left(\\hat{\\beta}_0,\\hat{\\beta}_1,\\hat{\\beta}_2\\right)}{\\partial \\hat{\\beta}_1},\\frac{\\partial CF\\left(\\hat{\\beta}_0,\\hat{\\beta}_1,\\hat{\\beta}_2\\right)}{\\partial \\hat{\\beta}_2}\\right)}$\n",
    "4. Gradient Descent abstract view: ${{z}_{n + 1} = {z}_{n} - \\alpha \\cdot \\frac{\\partial CF\\left(\\hat{\\beta}_0,\\hat{\\beta}_1,\\hat{\\beta}_2\\right)}{\\partial {\\hat{\\beta}}}\\left({z}_{n}\\right)}$\n",
    "5. So we need the initial vector of ${\\beta}$ be defined."
   ]
  },
  {
   "cell_type": "code",
   "execution_count": 8,
   "id": "676f4a50",
   "metadata": {},
   "outputs": [],
   "source": [
    "# -----------------------------------------------------------------------------------------\n",
    "from math import exp\n",
    "import numpy as np\n",
    "import matplotlib.pyplot as plt"
   ]
  },
  {
   "cell_type": "code",
   "execution_count": 150,
   "id": "f8b57ef1",
   "metadata": {},
   "outputs": [],
   "source": [
    "def f(x):\n",
    "    return 3 * np.exp(x) / (x**2 + x + 1)\n",
    "def f_drivative(f,x):\n",
    "    b = 1e-3\n",
    "    return (f(x + b) - f(x - b)) / (2 * b)"
   ]
  },
  {
   "cell_type": "code",
   "execution_count": 157,
   "id": "9e1e86d8",
   "metadata": {},
   "outputs": [],
   "source": [
    "x = np.linspace(-3,4,100)\n",
    "y = np.array([f(el) for el in x])\n",
    "y_d = np.array([f_drivative(f,el) for el in x])"
   ]
  },
  {
   "cell_type": "code",
   "execution_count": 158,
   "id": "d0bc783a",
   "metadata": {},
   "outputs": [
    {
     "data": {
      "image/png": "[encoded data removed]",
      "text/plain": [
       "<Figure size 432x288 with 1 Axes>"
      ]
     },
     "metadata": {
      "needs_background": "light"
     },
     "output_type": "display_data"
    }
   ],
   "source": [
    "plt.plot(x,y,color= \"Red\",label= \"f(x)\")\n",
    "plt.plot(x,y_d,color= \"Black\",label= \"f'(x)\")\n",
    "plt.legend(loc= \"best\")\n",
    "plt.grid(True)\n",
    "plt.show()"
   ]
  },
  {
   "cell_type": "code",
   "execution_count": 175,
   "id": "897dfa26",
   "metadata": {},
   "outputs": [],
   "source": [
    "a = 1e-2\n",
    "v = 0\n",
    "x_min = 4\n",
    "x_min_next = x_min - a * f_drivative(f,x_min)\n",
    "buf = []"
   ]
  },
  {
   "cell_type": "code",
   "execution_count": 180,
   "id": "6ab76fc7",
   "metadata": {},
   "outputs": [
    {
     "data": {
      "text/plain": [
       "0.9999999999998533"
      ]
     },
     "execution_count": 180,
     "metadata": {},
     "output_type": "execute_result"
    }
   ],
   "source": [
    "k = 0\n",
    "while abs(x_min - x_min_next) >= 1e-20 and k <= 100_000:\n",
    "    k += 1\n",
    "    buf.append(x_min)\n",
    "    x_min = x_min_next\n",
    "    v = 0.9 * v - a * f_drivative(f,x_min_next)\n",
    "    x_min_next = x_min_next + v\n",
    "x_min_next"
   ]
  },
  {
   "cell_type": "code",
   "execution_count": 181,
   "id": "424eaeb3",
   "metadata": {},
   "outputs": [
    {
     "data": {
      "image/png": "[encoded data removed]",
      "text/plain": [
       "<Figure size 432x288 with 1 Axes>"
      ]
     },
     "metadata": {
      "needs_background": "light"
     },
     "output_type": "display_data"
    }
   ],
   "source": [
    "buf = np.array(buf)\n",
    "plt.plot(x,y,color= \"red\",label= \"f(x)\")\n",
    "plt.scatter(buf,np.array([f(el) for el in buf]),color= \"Black\",marker= \"*\",label= \"Gradient dots\")\n",
    "plt.plot(x,y_d,color= \"Orange\",label= \"f'(x)\")\n",
    "plt.legend(loc= \"best\")\n",
    "plt.grid(True)\n",
    "plt.show()"
   ]
  },
  {
   "cell_type": "code",
   "execution_count": null,
   "id": "a8b9b208",
   "metadata": {},
   "outputs": [],
   "source": []
  },
  {
   "cell_type": "code",
   "execution_count": null,
   "id": "64cbf3cb",
   "metadata": {},
   "outputs": [],
   "source": []
  }
 ],
 "metadata": {
  "kernelspec": {
   "display_name": "Python 3",
   "language": "python",
   "name": "python3"
  },
  "language_info": {
   "codemirror_mode": {
    "name": "ipython",
    "version": 3
   },
   "file_extension": ".py",
   "mimetype": "text/x-python",
   "name": "python",
   "nbconvert_exporter": "python",
   "pygments_lexer": "ipython3",
   "version": "3.8.5"
  }
 },
 "nbformat": 4,
 "nbformat_minor": 5
}
